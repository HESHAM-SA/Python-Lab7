{
 "cells": [
  {
   "cell_type": "code",
   "execution_count": 29,
   "id": "6fe9eea3",
   "metadata": {},
   "outputs": [
    {
     "name": "stdout",
     "output_type": "stream",
     "text": [
      "Enter Number: 6666666666\n",
      "Faisal\n"
     ]
    }
   ],
   "source": [
    "my_dict = {\n",
    "    'Name':['Amal', 'Mohammed', 'Khadijah','Abdullah', 'Rawan', 'Faisal','Layla' ],\n",
    "    'Number':[1111111111,2222222222, 3333333333,4444444444,5555555555, 6666666666, 7777777777]\n",
    "}\n",
    "r_number = input('Enter Number: ')\n",
    "if  not r_number.isdigit():\n",
    "    print('This is invalid number')\n",
    "elif len(r_number) != 10:\n",
    "    print(\"This is invalid number\")\n",
    "else:\n",
    "    intge_number = int(r_number)\n",
    "    \n",
    "    for n in range(len(my_dict[\"Number\"])):\n",
    "        if intge_number == my_dict[\"Number\"][n]:\n",
    "            print(my_dict[\"Name\"][n])\n",
    "            break\n",
    "    else:\n",
    "        print('Sorry, the number is not found')"
   ]
  },
  {
   "cell_type": "code",
   "execution_count": null,
   "id": "dadbdfc8",
   "metadata": {},
   "outputs": [],
   "source": []
  },
  {
   "cell_type": "code",
   "execution_count": null,
   "id": "76a163d9",
   "metadata": {},
   "outputs": [],
   "source": []
  },
  {
   "cell_type": "code",
   "execution_count": null,
   "id": "c1e89993",
   "metadata": {},
   "outputs": [],
   "source": []
  },
  {
   "cell_type": "code",
   "execution_count": null,
   "id": "0ea014f9",
   "metadata": {},
   "outputs": [],
   "source": []
  }
 ],
 "metadata": {
  "kernelspec": {
   "display_name": "Python 3 (ipykernel)",
   "language": "python",
   "name": "python3"
  },
  "language_info": {
   "codemirror_mode": {
    "name": "ipython",
    "version": 3
   },
   "file_extension": ".py",
   "mimetype": "text/x-python",
   "name": "python",
   "nbconvert_exporter": "python",
   "pygments_lexer": "ipython3",
   "version": "3.10.9"
  }
 },
 "nbformat": 4,
 "nbformat_minor": 5
}
